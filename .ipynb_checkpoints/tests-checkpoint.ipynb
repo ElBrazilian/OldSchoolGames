{
 "cells": [
  {
   "cell_type": "code",
   "execution_count": 9,
   "metadata": {},
   "outputs": [],
   "source": [
    "from lib.Math.Vector import Vector2 as V"
   ]
  },
  {
   "cell_type": "code",
   "execution_count": 10,
   "metadata": {},
   "outputs": [],
   "source": [
    "triangleA = [V(0,0),V(1,1),V(0,1)]\n",
    "triangleB = [V(1,0),V(0,0),V(-1,-1)]"
   ]
  },
  {
   "cell_type": "code",
   "execution_count": 22,
   "metadata": {},
   "outputs": [],
   "source": [
    "def compute_aretes(triangle):\n",
    "    A,B,C = triangle\n",
    "    return [(A,B),(B,C),(C,A)]\n",
    "def same_arete(areteA, areteB):\n",
    "    return (areteA == areteB) or (areteA == list(reversed(areteB)))\n",
    "def arete_in_common(triangleA, triangleB):\n",
    "    areteA = compute_aretes(triangleA)\n",
    "    areteB = compute_aretes(triangleB)\n",
    "    if "
   ]
  },
  {
   "cell_type": "code",
   "execution_count": 23,
   "metadata": {},
   "outputs": [
    {
     "name": "stdout",
     "output_type": "stream",
     "text": [
      "[(<Vector2>(711.0, 429.0), <Vector2>(687.0, 162.0)), (<Vector2>(687.0, 162.0), <Vector2>(877, 315)), (<Vector2>(877, 315), <Vector2>(711.0, 429.0))]\n"
     ]
    }
   ],
   "source": [
    "arete_in_common(triangleA, triangleB)"
   ]
  },
  {
   "cell_type": "code",
   "execution_count": null,
   "metadata": {},
   "outputs": [],
   "source": []
  }
 ],
 "metadata": {
  "kernelspec": {
   "display_name": "Python 3",
   "language": "python",
   "name": "python3"
  },
  "language_info": {
   "codemirror_mode": {
    "name": "ipython",
    "version": 3
   },
   "file_extension": ".py",
   "mimetype": "text/x-python",
   "name": "python",
   "nbconvert_exporter": "python",
   "pygments_lexer": "ipython3",
   "version": "3.8.3"
  }
 },
 "nbformat": 4,
 "nbformat_minor": 4
}
