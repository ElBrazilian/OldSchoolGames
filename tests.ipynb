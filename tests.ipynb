{
 "cells": [
  {
   "cell_type": "code",
   "execution_count": 37,
   "metadata": {},
   "outputs": [],
   "source": [
    "from lib.Math.Vector import Vector2 as V\n",
    "import numpy as np\n",
    "\n",
    "def valid(point, points, radius_sq):\n",
    "    \"\"\"\n",
    "    check if the new point \"point\" is valid (ie. every point in \"points\" is a min distance squared of \"radius_sq\" from \"point\")\n",
    "    \"\"\"\n",
    "    for other in points:\n",
    "        if (point-other).mag_sqr() < radius_sq:\n",
    "            return  False, point\n",
    "    return True, V()"
   ]
  },
  {
   "cell_type": "code",
   "execution_count": 17,
   "metadata": {},
   "outputs": [],
   "source": [
    "def random_V2(n):\n",
    "    p = []\n",
    "    for _ in range(n):\n",
    "        p.append(V(*np.random.randint(0,100,(2))))\n",
    "    return p"
   ]
  },
  {
   "cell_type": "code",
   "execution_count": 39,
   "metadata": {},
   "outputs": [],
   "source": [
    "p = V()\n",
    "ps = [V(2,0), V(0,2),V(1,1)]"
   ]
  },
  {
   "cell_type": "code",
   "execution_count": 40,
   "metadata": {},
   "outputs": [
    {
     "data": {
      "text/plain": [
       "False"
      ]
     },
     "execution_count": 40,
     "metadata": {},
     "output_type": "execute_result"
    }
   ],
   "source": [
    "valid(p, ps,2**2)"
   ]
  },
  {
   "cell_type": "code",
   "execution_count": null,
   "metadata": {},
   "outputs": [],
   "source": []
  }
 ],
 "metadata": {
  "kernelspec": {
   "display_name": "Python 3",
   "language": "python",
   "name": "python3"
  },
  "language_info": {
   "codemirror_mode": {
    "name": "ipython",
    "version": 3
   },
   "file_extension": ".py",
   "mimetype": "text/x-python",
   "name": "python",
   "nbconvert_exporter": "python",
   "pygments_lexer": "ipython3",
   "version": "3.8.3"
  }
 },
 "nbformat": 4,
 "nbformat_minor": 4
}
